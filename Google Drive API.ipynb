{
 "cells": [
  {
   "cell_type": "markdown",
   "metadata": {},
   "source": [
    "# Google Drive API\n",
    "\n",
    "**Download credentials.json from**\n",
    "https://developers.google.com/drive/api/v3/quickstart/python"
   ]
  },
  {
   "cell_type": "code",
   "execution_count": null,
   "metadata": {
    "pycharm": {
     "is_executing": false
    }
   },
   "outputs": [],
   "source": [
    "from __future__ import print_function\n",
    "import pickle\n",
    "import os.path\n",
    "from googleapiclient.discovery import build\n",
    "from google_auth_oauthlib.flow import InstalledAppFlow\n",
    "from google.auth.transport.requests import Request\n",
    "\n",
    "# If modifying these scopes, delete the file token.pickle.\n",
    "SCOPES = ['https://www.googleapis.com/auth/drive']\n",
    "\n",
    "creds = None\n",
    "# The file token.pickle stores the user's access and refresh tokens, and is\n",
    "# created automatically when the authorization flow completes for the first\n",
    "# time.\n",
    "if os.path.exists('token.pickle'):\n",
    "    with open('token.pickle', 'rb') as token:\n",
    "        creds = pickle.load(token)\n",
    "# If there are no (valid) credentials available, let the user log in.\n",
    "if not creds or not creds.valid:\n",
    "    if creds and creds.expired and creds.refresh_token:\n",
    "        creds.refresh(Request())\n",
    "    else:\n",
    "        flow = InstalledAppFlow.from_client_secrets_file(\n",
    "            'credentials.json', SCOPES)\n",
    "        creds = flow.run_local_server(port=0)\n",
    "    # Save the credentials for the next run\n",
    "    with open('token.pickle', 'wb') as token:\n",
    "        pickle.dump(creds, token)\n",
    "\n",
    "service = build('drive', 'v3', credentials=creds)\n",
    "\n",
    "# Call the Drive v3 API\n",
    "results = service.files().list(pageSize=1000, fields=\"nextPageToken, files(id, name)\").execute()\n",
    "items = results.get('files', [])\n",
    "\n",
    "# if not items:\n",
    "#     print('No files found.')\n",
    "# else:\n",
    "#     print('Files:')\n",
    "#     for item in items:\n",
    "#         print(u'{0} ({1})'.format(item['name'], item['id']))\n",
    "\n"
   ]
  },
  {
   "cell_type": "code",
   "execution_count": null,
   "metadata": {},
   "outputs": [],
   "source": [
    "items[:5]"
   ]
  },
  {
   "cell_type": "code",
   "execution_count": null,
   "metadata": {},
   "outputs": [],
   "source": [
    "# Batch delete\n",
    "from tqdm.notebook import tqdm\n",
    "\n",
    "def delete_file(request_id, response, exception):\n",
    "  if exception is not None:\n",
    "    print(response, exception)\n",
    "  else:\n",
    "    pass\n",
    "\n",
    "batch = service.new_batch_http_request(callback=delete_file)\n",
    "\n",
    "\n",
    "for i, file in tqdm(enumerate(items)):\n",
    "    name = file[\"name\"]\n",
    "    idn = file[\"id\"]\n",
    "    if \"Train_\" in name:\n",
    "        batch.add(service.files().delete(fileId=idn))\n",
    "    \n",
    "    if i%10 == 0:\n",
    "        batch.execute()\n",
    "        batch = service.new_batch_http_request(callback=delete_file)\n",
    "        \n",
    "batch.execute()\n",
    "\n",
    "#         service.files().delete(fileId=idn).execute()\n",
    "# service.files().delete(fileId=\"1360Xx6d5yc8h8QE2FcnNPpzYD8pKf1SY\")"
   ]
  }
 ],
 "metadata": {
  "kernelspec": {
   "display_name": "Python 3",
   "language": "python",
   "name": "python3"
  },
  "language_info": {
   "codemirror_mode": {
    "name": "ipython",
    "version": 3
   },
   "file_extension": ".py",
   "mimetype": "text/x-python",
   "name": "python",
   "nbconvert_exporter": "python",
   "pygments_lexer": "ipython3",
   "version": "3.6.9"
  },
  "pycharm": {
   "stem_cell": {
    "cell_type": "raw",
    "metadata": {
     "collapsed": false
    },
    "source": []
   }
  }
 },
 "nbformat": 4,
 "nbformat_minor": 2
}
